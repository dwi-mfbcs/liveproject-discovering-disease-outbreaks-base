{
 "cells": [
  {
   "cell_type": "code",
   "execution_count": 1,
   "id": "2d25bdfe-46c7-4398-9ba0-6846ca4ecf6f",
   "metadata": {},
   "outputs": [],
   "source": [
    "import sys\n",
    "sys.path.append('/opt/anaconda3/envs/discovering-disease-outbreaks/lib/python3.13/site-packages')"
   ]
  },
  {
   "cell_type": "code",
   "execution_count": 3,
   "id": "e29e0da2-54eb-4010-927d-472bebe98186",
   "metadata": {},
   "outputs": [],
   "source": [
    "import re\n",
    "from collections import Counter\n",
    "from geonamescache import GeonamesCache\n",
    "import pandas as pd"
   ]
  },
  {
   "cell_type": "code",
   "execution_count": 5,
   "id": "74d19ab6-254b-4643-ba86-1f2a573a257b",
   "metadata": {},
   "outputs": [],
   "source": [
    "def get_city_names():\n",
    "    gc = GeonamesCache()\n",
    "    cities = gc.get_cities()\n",
    "    countries = gc.get_countries()\n",
    "    return {city['name'].lower(): (city['name'], countries[city['countrycode']]['name']) \n",
    "            for city in cities.values()}\n",
    "\n",
    "def clean_word(word):\n",
    "    # Remove possessive 's and any non-alphabetic characters except spaces\n",
    "    return re.sub(r\"'s|[^a-zA-Z\\s]\", '', word).strip().lower()\n",
    "\n",
    "# List of words to exclude from city detection (all lowercase)\n",
    "stop_words = {'of', 'man', 'the', 'in', 'on', 'at', 'by', 'for', 'with', 'to', 'from'}\n",
    "\n",
    "def extract_cities(filename, city_names):\n",
    "    cities_with_headlines = []\n",
    "    with open(filename, 'r') as f:\n",
    "        for line in f:\n",
    "            headline = line.strip()\n",
    "            words = headline.split()\n",
    "            headline_cities = []\n",
    "            i = 0\n",
    "            while i < len(words):\n",
    "                # Check for multi-word cities (up to 4 words)\n",
    "                for j in range(4, 0, -1):\n",
    "                    if i + j <= len(words):\n",
    "                        potential_city = ' '.join(words[i:i+j])\n",
    "                        cleaned_city = clean_word(potential_city)\n",
    "                        if cleaned_city in city_names and cleaned_city not in stop_words:\n",
    "                            headline_cities.append(city_names[cleaned_city])\n",
    "                            i += j\n",
    "                            break\n",
    "                else:\n",
    "                    i += 1\n",
    "            if headline_cities:\n",
    "                for city in headline_cities:\n",
    "                    cities_with_headlines.append((city[0], city[1], headline))\n",
    "    return cities_with_headlines"
   ]
  },
  {
   "cell_type": "code",
   "execution_count": 7,
   "id": "1f2f7609-f49a-4ce9-814b-cde7950c0b30",
   "metadata": {},
   "outputs": [],
   "source": [
    "# Get the dictionary of city names\n",
    "city_names = get_city_names()\n",
    "\n",
    "# Add some common compound names that might not be in geonamescache\n",
    "compound_names = {\n",
    "    'tampa bay': ('Tampa Bay', 'United States'),\n",
    "    'rio grande valley': ('Rio Grande Valley', 'United States'),\n",
    "    # Add more as needed\n",
    "}\n",
    "city_names.update(compound_names)\n",
    "\n",
    "# Extract cities\n",
    "cities_with_headlines = extract_cities('./data/headlines.txt', city_names)\n",
    "\n",
    "# Create a DataFrame\n",
    "df = pd.DataFrame(cities_with_headlines, columns=['City', 'Country', 'Headline'])\n",
    "\n",
    "# Count occurrences\n",
    "city_counts = df.groupby(['City', 'Country']).size().reset_index(name='Count')\n",
    "city_counts = city_counts.sort_values('Count', ascending=False)"
   ]
  },
  {
   "cell_type": "code",
   "execution_count": 9,
   "id": "d0db5850-5727-4b40-b83d-4f6102b3b472",
   "metadata": {},
   "outputs": [
    {
     "name": "stdout",
     "output_type": "stream",
     "text": [
      "Top 20 most mentioned cities:\n",
      "             City        Country  Count\n",
      "288        Madrid          Spain      4\n",
      "313         Miami  United States      4\n",
      "323        Monroe  United States      4\n",
      "34      Barcelona      Venezuela      3\n",
      "555      Zanzibar       Tanzania      2\n",
      "104       Colombo      Sri Lanka      2\n",
      "41        Bedford  United States      2\n",
      "182    Greenville  United States      2\n",
      "47        Belmont  United States      2\n",
      "57     Birmingham  United States      2\n",
      "433      San Jose  United States      2\n",
      "231  Johannesburg   South Africa      2\n",
      "368  Palm Springs  United States      2\n",
      "363        Orange  United States      2\n",
      "87      Cambridge  United States      2\n",
      "216        Ibadan        Nigeria      2\n",
      "207     Hollywood  United States      2\n",
      "308     Melbourne  United States      2\n",
      "356       Norwalk  United States      2\n",
      "408      Richmond   South Africa      2\n"
     ]
    }
   ],
   "source": [
    "# Print the top 20 most mentioned cities\n",
    "print(\"Top 20 most mentioned cities:\")\n",
    "print(city_counts.head(20))"
   ]
  },
  {
   "cell_type": "code",
   "execution_count": null,
   "id": "381eba67-2bc0-4b64-8edb-cd8cbb233d73",
   "metadata": {},
   "outputs": [],
   "source": []
  }
 ],
 "metadata": {
  "kernelspec": {
   "display_name": "Python 3 (ipykernel)",
   "language": "python",
   "name": "python3"
  },
  "language_info": {
   "codemirror_mode": {
    "name": "ipython",
    "version": 3
   },
   "file_extension": ".py",
   "mimetype": "text/x-python",
   "name": "python",
   "nbconvert_exporter": "python",
   "pygments_lexer": "ipython3",
   "version": "3.12.2"
  }
 },
 "nbformat": 4,
 "nbformat_minor": 5
}
